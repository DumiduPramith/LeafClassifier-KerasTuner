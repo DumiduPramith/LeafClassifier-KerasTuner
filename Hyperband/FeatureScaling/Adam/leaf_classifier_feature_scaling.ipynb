{
 "cells": [
  {
   "cell_type": "code",
   "id": "initial_id",
   "metadata": {
    "collapsed": true,
    "ExecuteTime": {
     "end_time": "2024-05-12T19:13:21.802377Z",
     "start_time": "2024-05-12T19:13:21.798378Z"
    }
   },
   "source": "TF_ENABLE_ONEDNN_OPTS=0",
   "execution_count": 2,
   "outputs": []
  },
  {
   "metadata": {
    "ExecuteTime": {
     "end_time": "2024-05-12T19:13:24.112184Z",
     "start_time": "2024-05-12T19:13:24.108020Z"
    }
   },
   "cell_type": "code",
   "source": [
    "import os\n",
    "import pandas as pd\n",
    "import matplotlib.pyplot as plt\n",
    "import tensorflow as tf\n",
    "import plotly.graph_objects as go"
   ],
   "id": "bb2bc55061ad560c",
   "execution_count": 3,
   "outputs": []
  },
  {
   "metadata": {
    "ExecuteTime": {
     "end_time": "2024-05-12T19:13:26.170371Z",
     "start_time": "2024-05-12T19:13:26.165482Z"
    }
   },
   "cell_type": "code",
   "source": [
    "cwd = os.getcwd()\n",
    "root_dir = os.path.dirname(os.path.dirname(os.path.dirname(cwd)))"
   ],
   "id": "e45bea2d5aec3a37",
   "execution_count": 4,
   "outputs": []
  },
  {
   "metadata": {
    "ExecuteTime": {
     "end_time": "2024-05-12T19:13:28.155184Z",
     "start_time": "2024-05-12T19:13:28.142944Z"
    }
   },
   "cell_type": "code",
   "source": "data = pd.read_csv(os.path.join(root_dir,'Dataset/combine.csv'))",
   "id": "49b61792b9e5ad4b",
   "execution_count": 5,
   "outputs": []
  },
  {
   "metadata": {
    "ExecuteTime": {
     "end_time": "2024-05-12T19:13:29.901675Z",
     "start_time": "2024-05-12T19:13:29.891843Z"
    }
   },
   "cell_type": "code",
   "source": [
    "X = data.drop(['Height cm (H)','Width cm (W)','Lower Angle (L)','Upper Angle (U)','Internal Angle (Right,2nd)','Leave Model'],axis=1)\n",
    "y = data['Leave Model']"
   ],
   "id": "f6fdb18bfaf0bd97",
   "execution_count": 6,
   "outputs": []
  },
  {
   "metadata": {
    "ExecuteTime": {
     "end_time": "2024-05-12T14:36:34.599776Z",
     "start_time": "2024-05-12T14:36:34.429731Z"
    }
   },
   "cell_type": "code",
   "source": [
    "plt.scatter(X['Ratio (H/W)'], X['Ratio(L/U)'], c=y)\n",
    "plt.colorbar()\n",
    "plt.show()"
   ],
   "id": "aa61e57ce9ff5f4d",
   "execution_count": 17,
   "outputs": []
  },
  {
   "metadata": {
    "ExecuteTime": {
     "end_time": "2024-05-12T19:13:36.716991Z",
     "start_time": "2024-05-12T19:13:35.797916Z"
    }
   },
   "cell_type": "code",
   "source": [
    "# Feature Scalling\n",
    "from sklearn.preprocessing import MinMaxScaler\n",
    "scaler = MinMaxScaler()\n",
    "x_scaled = scaler.fit_transform(X)\n",
    "X = pd.DataFrame(x_scaled, columns=['Ratio (H/W)','Ratio(L/U)','Ratio(L/I)'])"
   ],
   "id": "358998be86a2f555",
   "execution_count": 7,
   "outputs": []
  },
  {
   "metadata": {
    "ExecuteTime": {
     "end_time": "2024-05-12T19:13:39.309155Z",
     "start_time": "2024-05-12T19:13:39.255896Z"
    }
   },
   "cell_type": "code",
   "source": [
    "from sklearn.model_selection import train_test_split\n",
    "X_train, X_test, y_train, y_test = train_test_split(X, y, test_size=0.2, random_state=42)"
   ],
   "id": "59bdf8456c4c23cc",
   "execution_count": 8,
   "outputs": []
  },
  {
   "metadata": {
    "ExecuteTime": {
     "end_time": "2024-05-12T19:13:41.552636Z",
     "start_time": "2024-05-12T19:13:41.545788Z"
    }
   },
   "cell_type": "code",
   "source": [
    "def build_model(hp):\n",
    "    model = tf.keras.Sequential()\n",
    "    model.add(tf.keras.layers.Dense(16,activation='relu',input_shape=(3,)))\n",
    "    \n",
    "    hp_units = hp.Int('units',min_value=32,max_value=512,step=32)\n",
    "    for i in range(hp.Int('num_layers',1,20)):\n",
    "        model.add(tf.keras.layers.Dense(units=hp_units,activation='relu'))\n",
    "        \n",
    "    model.add(tf.keras.layers.Dense(3, activation='softmax'))\n",
    "    \n",
    "    # Tune the learning rate for the optimizer \n",
    "    # Choose an optimal value from 0.01, 0.001, or 0.0001\n",
    "    hp_learning_rate = hp.Choice('learning_rate', values=[1e-2, 1e-3, 1e-4])\n",
    "\n",
    "    \n",
    "    model.compile(optimizer=tf.keras.optimizers.Adam(learning_rate=hp_learning_rate),\n",
    "                  loss=tf.keras.losses.SparseCategoricalCrossentropy(from_logits=False), \n",
    "                  metrics=['accuracy'])\n",
    "    \n",
    "    return model"
   ],
   "id": "8dce06a832015375",
   "execution_count": 9,
   "outputs": []
  },
  {
   "metadata": {
    "ExecuteTime": {
     "end_time": "2024-05-12T19:13:48.259372Z",
     "start_time": "2024-05-12T19:13:48.050598Z"
    }
   },
   "cell_type": "code",
   "source": [
    "from keras_tuner import Hyperband\n",
    "hyperband_tuner = Hyperband(\n",
    "    build_model,\n",
    "    objective='val_accuracy',\n",
    "    max_epochs=40,\n",
    "    hyperband_iterations=10,\n",
    "    directory='',\n",
    "    project_name='logs')"
   ],
   "id": "dda1e27af8df7115",
   "execution_count": 10,
   "outputs": []
  },
  {
   "metadata": {
    "ExecuteTime": {
     "end_time": "2024-05-12T19:01:43.267272Z",
     "start_time": "2024-05-12T19:01:43.261483Z"
    }
   },
   "cell_type": "code",
   "source": "hyperband_tuner.search_space_summary()",
   "id": "da9932640c381ebe",
   "execution_count": 13,
   "outputs": []
  },
  {
   "metadata": {},
   "cell_type": "code",
   "source": [
    "hyperband_tuner.search(X_train, y_train,\n",
    "             validation_data=(X_test, y_test),)"
   ],
   "id": "fc95c7521bea1cb2",
   "execution_count": 11,
   "outputs": []
  },
  {
   "metadata": {
    "ExecuteTime": {
     "end_time": "2024-05-12T15:06:34.916783Z",
     "start_time": "2024-05-12T15:06:34.019719Z"
    }
   },
   "cell_type": "code",
   "source": [
    "# Get the best model\n",
    "best_model = hyperband_tuner.get_best_models(num_models=1)[0]\n",
    "best_model.save('best_model.keras')"
   ],
   "id": "f8092947e0dfea81",
   "execution_count": 25,
   "outputs": []
  },
  {
   "metadata": {
    "ExecuteTime": {
     "end_time": "2024-05-12T14:49:43.186111Z",
     "start_time": "2024-05-12T14:49:43.108784Z"
    }
   },
   "cell_type": "code",
   "source": [
    "# Evaluate the best model on the validation data\n",
    "val_loss, val_accuracy = best_model.evaluate(X_test, y_test)\n",
    "\n",
    "# Print the validation loss and accuracy\n",
    "print('Validation loss: ', val_loss)\n",
    "print('Validation accuracy: ', val_accuracy)"
   ],
   "id": "aa8eaed6aa95dcae",
   "execution_count": 18,
   "outputs": []
  },
  {
   "metadata": {
    "ExecuteTime": {
     "end_time": "2024-05-12T14:50:00.020880Z",
     "start_time": "2024-05-12T14:50:00.016484Z"
    }
   },
   "cell_type": "code",
   "source": [
    "best_hps = hyperband_tuner.get_best_hyperparameters(num_trials=1)[0]\n",
    "print(best_hps.values)"
   ],
   "id": "210ab67e6f76af28",
   "execution_count": 19,
   "outputs": []
  },
  {
   "metadata": {
    "ExecuteTime": {
     "end_time": "2024-05-12T15:09:21.659248Z",
     "start_time": "2024-05-12T15:09:21.651920Z"
    }
   },
   "cell_type": "code",
   "source": [
    "best_trial = hyperband_tuner.oracle.get_best_trials(num_trials=1)[0]\n",
    "\n",
    "with open('trial_id.txt','w') as f:\n",
    "    f.write(best_trial.trial_id)"
   ],
   "id": "1a023573d2c621b8",
   "execution_count": 28,
   "outputs": []
  },
  {
   "metadata": {
    "ExecuteTime": {
     "end_time": "2024-05-12T15:51:16.185754Z",
     "start_time": "2024-05-12T15:51:16.179245Z"
    }
   },
   "cell_type": "code",
   "source": [
    "import glob\n",
    "import json\n",
    "\n",
    "files = glob.glob('logs/**/trial*.json', recursive=True)\n",
    "\n",
    "steps = []\n",
    "val_losses = []\n",
    "val_accuracies = []\n",
    "train_accuracies = []\n",
    "trial_numbers = []\n",
    "\n",
    "for i,file in enumerate(files,start=0):\n",
    "    with open(file,'r') as f:\n",
    "        data = json.load(f)\n",
    "        \n",
    "        step = data['metrics']['metrics']['val_loss']['observations'][0]['step']\n",
    "        val_loss = data['metrics']['metrics']['val_loss']['observations'][0]['value'][0]\n",
    "        val_accuracy = data['metrics']['metrics']['val_accuracy']['observations'][0]['value'][0]\n",
    "        train_accuracy = data['metrics']['metrics']['accuracy']['observations'][0]['value'][0]\n",
    "        \n",
    "        steps.append(step)\n",
    "        val_losses.append(val_loss)\n",
    "        val_accuracies.append(val_accuracy)\n",
    "        train_accuracies.append(train_accuracy)\n",
    "        trial_number = file.split('/')[1].split('_')[1]\n",
    "        trial_numbers.append(trial_number) "
   ],
   "id": "89d4f3a798056b48",
   "execution_count": 39,
   "outputs": []
  },
  {
   "metadata": {
    "ExecuteTime": {
     "end_time": "2024-05-12T15:51:18.644815Z",
     "start_time": "2024-05-12T15:51:18.633093Z"
    }
   },
   "cell_type": "code",
   "source": [
    "trace1 = go.Scatter(x=steps, y=train_accuracies, mode='lines+markers', name='Training Accuracy',text=trial_numbers)\n",
    "trace2 = go.Scatter(x=steps, y=val_losses, mode='lines+markers', name='Validation Loss',text=trial_numbers)\n",
    "trace3 = go.Scatter(x=steps, y=val_accuracies, mode='lines+markers', name='Validation Accuracy',text=trial_numbers)\n",
    "\n",
    "# Create a layout\n",
    "layout = go.Layout(title='Analysis', xaxis=dict(title='Epoch'), yaxis=dict(title='Value'))\n",
    "\n",
    "# Create a Figure and add the traces\n",
    "fig = go.Figure(data=[trace1, trace2, trace3], layout=layout)\n",
    "\n",
    "# Show the figure\n",
    "fig.show()"
   ],
   "id": "2f811d0c338b7fbf",
   "execution_count": 40,
   "outputs": []
  }
 ],
 "metadata": {
  "kernelspec": {
   "display_name": "Python 3",
   "language": "python",
   "name": "python3"
  },
  "language_info": {
   "codemirror_mode": {
    "name": "ipython",
    "version": 2
   },
   "file_extension": ".py",
   "mimetype": "text/x-python",
   "name": "python",
   "nbconvert_exporter": "python",
   "pygments_lexer": "ipython2",
   "version": "2.7.6"
  }
 },
 "nbformat": 4,
 "nbformat_minor": 5
}
