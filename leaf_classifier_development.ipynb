{
 "cells": [
  {
   "metadata": {},
   "cell_type": "markdown",
   "source": [
    "# Testing File\n",
    "## this file not use for training the model"
   ],
   "id": "26b09bb6baa455db"
  },
  {
   "cell_type": "code",
   "id": "initial_id",
   "metadata": {
    "collapsed": true,
    "ExecuteTime": {
     "end_time": "2024-05-12T08:05:21.275434Z",
     "start_time": "2024-05-12T08:05:21.272056Z"
    }
   },
   "source": "TF_ENABLE_ONEDNN_OPTS=0",
   "execution_count": 4,
   "outputs": []
  },
  {
   "metadata": {
    "ExecuteTime": {
     "end_time": "2024-05-12T08:05:23.295186Z",
     "start_time": "2024-05-12T08:05:23.290293Z"
    }
   },
   "cell_type": "code",
   "source": [
    "import pandas as pd\n",
    "import matplotlib.pyplot as plt\n",
    "import tensorflow as tf\n",
    "import numpy as np"
   ],
   "id": "2388f26a04322875",
   "execution_count": 5,
   "outputs": []
  },
  {
   "metadata": {
    "ExecuteTime": {
     "end_time": "2024-05-12T08:05:24.891443Z",
     "start_time": "2024-05-12T08:05:24.879996Z"
    }
   },
   "cell_type": "code",
   "source": "data = pd.read_csv('Dataset/combine.csv')",
   "id": "c33ddeb69e98680",
   "execution_count": 6,
   "outputs": []
  },
  {
   "metadata": {
    "ExecuteTime": {
     "end_time": "2024-05-12T08:05:29.398989Z",
     "start_time": "2024-05-12T08:05:29.375742Z"
    }
   },
   "cell_type": "code",
   "source": "data",
   "id": "ffc72dbd84af7489",
   "execution_count": 7,
   "outputs": []
  },
  {
   "metadata": {
    "ExecuteTime": {
     "end_time": "2024-05-12T08:05:31.788306Z",
     "start_time": "2024-05-12T08:05:31.783410Z"
    }
   },
   "cell_type": "code",
   "source": [
    "X = data.drop(['Height cm (H)','Width cm (W)','Lower Angle (L)','Upper Angle (U)','Internal Angle (Right,2nd)','Leave Model'],axis=1)\n",
    "y = data['Leave Model']"
   ],
   "id": "8da8325301886396",
   "execution_count": 8,
   "outputs": []
  },
  {
   "metadata": {
    "ExecuteTime": {
     "end_time": "2024-05-12T08:05:33.874031Z",
     "start_time": "2024-05-12T08:05:33.726175Z"
    }
   },
   "cell_type": "code",
   "source": [
    "plt.scatter(X['Ratio (H/W)'], X['Ratio(L/U)'], c=y)\n",
    "plt.colorbar()\n",
    "plt.show()"
   ],
   "id": "f58979afb7938478",
   "execution_count": 9,
   "outputs": []
  },
  {
   "metadata": {
    "ExecuteTime": {
     "end_time": "2024-04-21T06:35:43.386678Z",
     "start_time": "2024-04-21T06:35:43.378088Z"
    }
   },
   "cell_type": "code",
   "source": [
    "# from sklearn.preprocessing import MinMaxScaler\n",
    "# scaler = MinMaxScaler()\n",
    "# x_scaled = scaler.fit_transform(X)\n",
    "# X = pd.DataFrame(x_scaled, columns=['Ratio (H/W)','Ratio(L/U)','Ratio(L/I)'])"
   ],
   "id": "e37587619b4e5274",
   "execution_count": 25,
   "outputs": []
  },
  {
   "metadata": {
    "ExecuteTime": {
     "end_time": "2024-04-21T06:36:14.579120Z",
     "start_time": "2024-04-21T06:36:14.544713Z"
    }
   },
   "cell_type": "code",
   "source": "X",
   "id": "2216bcd0b8afda03",
   "execution_count": 29,
   "outputs": []
  },
  {
   "metadata": {
    "ExecuteTime": {
     "end_time": "2024-05-12T08:05:41.224487Z",
     "start_time": "2024-05-12T08:05:40.664106Z"
    }
   },
   "cell_type": "code",
   "source": [
    "from sklearn.model_selection import train_test_split\n",
    "X_train, X_test, y_train, y_test = train_test_split(X, y, test_size=0.2, random_state=42)"
   ],
   "id": "85758d623feee5eb",
   "execution_count": 10,
   "outputs": []
  },
  {
   "metadata": {
    "ExecuteTime": {
     "end_time": "2024-04-21T11:04:59.029944Z",
     "start_time": "2024-04-21T11:04:59.023254Z"
    }
   },
   "cell_type": "code",
   "source": "y_test",
   "id": "a8054efc7f755998",
   "execution_count": 8,
   "outputs": []
  },
  {
   "metadata": {
    "ExecuteTime": {
     "end_time": "2024-04-27T15:33:22.441042Z",
     "start_time": "2024-04-27T15:33:22.434832Z"
    }
   },
   "cell_type": "code",
   "source": [
    "def filter_model_info(model_info):\n",
    "    filtered_info = []\n",
    "    for layer_info in model_info:\n",
    "        layer = {\n",
    "            \"class_name\" : layer_info['class_name'],\n",
    "            \"batch_input_shape\" : layer_info['batch_input_shape'],\n",
    "            \"units\": layer_info['config'].get('units'),\n",
    "            \"activation\" : layer_info['config'].get('activation')\n",
    "        }\n",
    "    \n",
    "def save_perfomance_metrics(file_path,model, history):\n",
    "    with open(file_path,'a') as file:\n",
    "        model_info = {\n",
    "            \"model_architecture\" : {\n",
    "                \"name\": model['config']['name'],\n",
    "                \"layers\": model['config']['layers']\n",
    "            }\n",
    "        }"
   ],
   "id": "c80f029b7662b5a7",
   "execution_count": 9,
   "outputs": []
  },
  {
   "metadata": {
    "ExecuteTime": {
     "end_time": "2024-04-27T15:33:38.556092Z",
     "start_time": "2024-04-27T15:33:38.368161Z"
    }
   },
   "cell_type": "code",
   "source": [
    "# model = tf.keras.Sequential([\n",
    "#     tf.keras.layers.Dense(16, activation='relu', input_shape=(3,)),\n",
    "#     tf.keras.layers.Dense(3, activation='softmax')\n",
    "# ])\n",
    "# \n",
    "# model.compile(loss = tf.keras.losses.SparseCategoricalCrossentropy(),\n",
    "#              optimizer = tf.keras.optimizers.Adam(learning_rate=0.005),\n",
    "#              metrics = [\"accuracy\"])\n",
    "# \n",
    "# epoch_number = 10\n",
    "# history = model.fit(X_train, y_train, epochs=epoch_number)"
   ],
   "id": "ca7ef1021c54325e",
   "execution_count": 10,
   "outputs": []
  },
  {
   "metadata": {
    "ExecuteTime": {
     "end_time": "2024-05-12T08:24:14.804111Z",
     "start_time": "2024-05-12T08:24:14.799209Z"
    }
   },
   "cell_type": "code",
   "source": [
    "def build_model(hp):\n",
    "    model = tf.keras.Sequential()\n",
    "    model.add(tf.keras.layers.Dense(16,activation='relu',input_shape=(3,)))\n",
    "    \n",
    "    hp_units = hp.Int('units',min_value=32,max_value=512,step=32)\n",
    "    for i in range(hp.Int('num_layers',1,20)):\n",
    "        model.add(tf.keras.layers.Dense(units=hp_units,activation='relu'))\n",
    "        \n",
    "    model.add(tf.keras.layers.Dense(3, activation='softmax'))\n",
    "    \n",
    "    # Tune the learning rate for the optimizer \n",
    "    # Choose an optimal value from 0.01, 0.001, or 0.0001\n",
    "    hp_learning_rate = hp.Choice('learning_rate', values=[1e-2, 1e-3, 1e-4])\n",
    "    \n",
    "    model.compile(optimizer=tf.keras.optimizers.Adam(learning_rate=hp_learning_rate),\n",
    "                  loss=tf.keras.losses.SparseCategoricalCrossentropy(from_logits=False), \n",
    "                  metrics=['accuracy'])\n",
    "    \n",
    "    return model"
   ],
   "id": "34ac0154210054db",
   "execution_count": 19,
   "outputs": []
  },
  {
   "metadata": {
    "ExecuteTime": {
     "end_time": "2024-05-12T11:46:19.949761Z",
     "start_time": "2024-05-12T11:46:19.633814Z"
    }
   },
   "cell_type": "code",
   "source": [
    "from keras_tuner import RandomSearch\n",
    "tuner = RandomSearch(build_model, objective='val_accuracy',max_trials=20, executions_per_trial=3, directory='my_dir1',project_name='Tree Classifier')"
   ],
   "id": "afeecc50414bd95e",
   "execution_count": 65,
   "outputs": []
  },
  {
   "metadata": {
    "ExecuteTime": {
     "end_time": "2024-05-12T11:46:23.490988Z",
     "start_time": "2024-05-12T11:46:23.483652Z"
    }
   },
   "cell_type": "code",
   "source": "tuner.search_space_summary()",
   "id": "42c82c5a24346817",
   "execution_count": 66,
   "outputs": []
  },
  {
   "metadata": {
    "ExecuteTime": {
     "end_time": "2024-05-12T08:20:31.271613Z",
     "start_time": "2024-05-12T08:20:31.267646Z"
    }
   },
   "cell_type": "code",
   "source": [
    "from tensorflow.keras.callbacks import EarlyStopping\n",
    "\n",
    "early_stopping = EarlyStopping(monitor='val_loss', patience=10)"
   ],
   "id": "9a3af967f9407e02",
   "execution_count": 17,
   "outputs": []
  },
  {
   "metadata": {},
   "cell_type": "code",
   "source": [
    "tuner.search(X_train, y_train,\n",
    "             epochs=500,\n",
    "             validation_data=(X_test, y_test),\n",
    "             callbacks=[early_stopping])"
   ],
   "id": "ed6216e346ab1049",
   "execution_count": 67,
   "outputs": []
  },
  {
   "metadata": {},
   "cell_type": "code",
   "execution_count": null,
   "source": "",
   "id": "468c70e5bfb2a205",
   "outputs": []
  },
  {
   "metadata": {
    "ExecuteTime": {
     "end_time": "2024-05-12T11:57:57.791653Z",
     "start_time": "2024-05-12T11:57:56.928176Z"
    }
   },
   "cell_type": "code",
   "source": [
    "# Get the best model\n",
    "best_model = tuner.get_best_models(num_models=1)[0]\n",
    "\n",
    "# You can now evaluate the best model on your test data, for example:\n",
    "# test_loss, test_acc = best_model.evaluate(X_test, y_test)"
   ],
   "id": "c0bdcfd253044bd9",
   "execution_count": 72,
   "outputs": []
  },
  {
   "metadata": {
    "ExecuteTime": {
     "end_time": "2024-05-12T12:08:44.844410Z",
     "start_time": "2024-05-12T12:08:44.759928Z"
    }
   },
   "cell_type": "code",
   "source": [
    "# Evaluate the best model on the validation data\n",
    "val_loss, val_accuracy = best_model.evaluate(X_train, y_train)\n",
    "\n",
    "# Print the validation loss and accuracy\n",
    "print('Validation loss: ', val_loss)\n",
    "print('Validation accuracy: ', val_accuracy)"
   ],
   "id": "f2b465349914d1f3",
   "execution_count": 79,
   "outputs": []
  },
  {
   "metadata": {
    "ExecuteTime": {
     "end_time": "2024-05-12T12:03:10.944042Z",
     "start_time": "2024-05-12T12:03:10.939146Z"
    }
   },
   "cell_type": "code",
   "source": "best_hps = tuner.get_best_hyperparameters(num_trials=1)[0]",
   "id": "5026a89755d26c4b",
   "execution_count": 74,
   "outputs": []
  },
  {
   "metadata": {
    "ExecuteTime": {
     "end_time": "2024-05-12T12:04:36.408625Z",
     "start_time": "2024-05-12T12:04:36.401075Z"
    }
   },
   "cell_type": "code",
   "source": "print(best_hps.values)",
   "id": "628339b5eaa31f9f",
   "execution_count": 77,
   "outputs": []
  },
  {
   "metadata": {
    "ExecuteTime": {
     "end_time": "2024-05-12T11:54:07.431990Z",
     "start_time": "2024-05-12T11:54:07.286136Z"
    }
   },
   "cell_type": "code",
   "source": [
    "import json\n",
    "\n",
    "# Load the data from the trial.json file\n",
    "with open('my_dir1/Tree Classifier/trial_0/trial.json', 'r') as f:\n",
    "    data = json.load(f)"
   ],
   "id": "93f72966cc3c3d1",
   "execution_count": 68,
   "outputs": []
  },
  {
   "metadata": {
    "ExecuteTime": {
     "end_time": "2024-05-12T09:07:50.277429Z",
     "start_time": "2024-05-12T09:07:50.270831Z"
    }
   },
   "cell_type": "code",
   "source": [
    "# Extract the values and steps for each metric\n",
    "train_accuracy = data['metrics']['metrics']['accuracy']['observations'][0]['value'][0]\n",
    "train_accuracy_step = data['metrics']['metrics']['accuracy']['observations'][0]['step']\n",
    "\n",
    "val_loss = data['metrics']['metrics']['val_loss']['observations'][0]['value'][0]\n",
    "val_loss_step = data['metrics']['metrics']['val_loss']['observations'][0]['step']\n",
    "\n",
    "val_accuracy = data['metrics']['metrics']['val_accuracy']['observations'][0]['value'][0]\n",
    "val_accuracy_step = data['metrics']['metrics']['val_accuracy']['observations'][0]['step']"
   ],
   "id": "ecd45fa0054a7968",
   "execution_count": 41,
   "outputs": []
  },
  {
   "metadata": {
    "ExecuteTime": {
     "end_time": "2024-05-12T09:08:51.048061Z",
     "start_time": "2024-05-12T09:08:51.042056Z"
    }
   },
   "cell_type": "code",
   "source": "val_loss",
   "id": "83a078cb080cc886",
   "execution_count": 44,
   "outputs": []
  },
  {
   "metadata": {
    "ExecuteTime": {
     "end_time": "2024-05-12T09:09:27.820768Z",
     "start_time": "2024-05-12T09:09:27.646853Z"
    }
   },
   "cell_type": "code",
   "source": [
    "# Plot the data\n",
    "plt.figure(figsize=(10, 6))\n",
    "\n",
    "plt.plot([train_accuracy_step], [train_accuracy], marker='o', label='Training Accuracy')\n",
    "plt.plot([val_loss_step], [val_loss], marker='o', label='Validation Loss')\n",
    "plt.plot([val_accuracy_step], [val_accuracy], marker='o', label='Validation Accuracy')\n",
    "\n",
    "plt.xlabel('Epoch')\n",
    "plt.ylabel('Value')\n",
    "plt.legend()\n",
    "\n",
    "plt.show()"
   ],
   "id": "cab6c300950d39ea",
   "execution_count": 45,
   "outputs": []
  },
  {
   "metadata": {
    "ExecuteTime": {
     "end_time": "2024-05-12T11:54:46.355080Z",
     "start_time": "2024-05-12T11:54:46.343965Z"
    }
   },
   "cell_type": "code",
   "source": [
    "import glob\n",
    "\n",
    "files = glob.glob('my_dir1/Tree Classifier/**/trial*.json', recursive=True)\n",
    "\n",
    "steps = []\n",
    "val_losses = []\n",
    "val_accuracies = []\n",
    "train_accuracies = []\n",
    "trial_numbers = []\n",
    "\n",
    "for i,file in enumerate(files):\n",
    "    with open(file,'r') as f:\n",
    "        data = json.load(f)\n",
    "        \n",
    "        step = data['metrics']['metrics']['val_loss']['observations'][0]['step']\n",
    "        val_loss = data['metrics']['metrics']['val_loss']['observations'][0]['value'][0]\n",
    "        val_accuracy = data['metrics']['metrics']['val_accuracy']['observations'][0]['value'][0]\n",
    "        train_accuracy = data['metrics']['metrics']['accuracy']['observations'][0]['value'][0]\n",
    "        \n",
    "        steps.append(step)\n",
    "        val_losses.append(val_loss)\n",
    "        val_accuracies.append(val_accuracy)\n",
    "        train_accuracies.append(train_accuracy)\n",
    "        trial_numbers.append(f'Trial {i+1}') "
   ],
   "id": "836c66ba95adae06",
   "execution_count": 69,
   "outputs": []
  },
  {
   "metadata": {
    "ExecuteTime": {
     "end_time": "2024-05-12T11:05:59.061441Z",
     "start_time": "2024-05-12T11:05:59.040082Z"
    }
   },
   "cell_type": "code",
   "source": "import plotly.graph_objects as go",
   "id": "7205835982e5d956",
   "execution_count": 46,
   "outputs": []
  },
  {
   "metadata": {
    "ExecuteTime": {
     "end_time": "2024-05-12T11:54:55.800065Z",
     "start_time": "2024-05-12T11:54:55.778646Z"
    }
   },
   "cell_type": "code",
   "source": [
    "trace1 = go.Scatter(x=steps, y=train_accuracies, mode='lines+markers', name='Training Accuracy',text=trial_numbers)\n",
    "trace2 = go.Scatter(x=steps, y=val_losses, mode='lines+markers', name='Validation Loss',text=trial_numbers)\n",
    "trace3 = go.Scatter(x=steps, y=val_accuracies, mode='lines+markers', name='Validation Accuracy',text=trial_numbers)\n",
    "\n",
    "# Create a layout\n",
    "layout = go.Layout(title='Analysis', xaxis=dict(title='Epoch'), yaxis=dict(title='Value'))\n",
    "\n",
    "# Create a Figure and add the traces\n",
    "fig = go.Figure(data=[trace1, trace2, trace3], layout=layout)\n",
    "\n",
    "# Show the figure\n",
    "fig.show()"
   ],
   "id": "f89c4b4259e68eaf",
   "execution_count": 71,
   "outputs": []
  },
  {
   "metadata": {
    "ExecuteTime": {
     "end_time": "2024-05-12T11:06:29.486382Z",
     "start_time": "2024-05-12T11:06:29.213390Z"
    }
   },
   "cell_type": "code",
   "source": [
    "# Create a trace for each metric\n",
    "trace1 = go.Scatter(x=[train_accuracy_step], y=[train_accuracy], mode='markers', name='Training Accuracy')\n",
    "trace2 = go.Scatter(x=[val_loss_step], y=[val_loss], mode='markers', name='Validation Loss')\n",
    "trace3 = go.Scatter(x=[val_accuracy_step], y=[val_accuracy], mode='markers', name='Validation Accuracy')\n",
    "\n",
    "# Create a layout\n",
    "layout = go.Layout(title='Metrics vs Epoch', xaxis=dict(title='Epoch'), yaxis=dict(title='Value'))\n",
    "\n",
    "# Create a Figure and add the traces\n",
    "fig = go.Figure(data=[trace1, trace2, trace3], layout=layout)\n",
    "\n",
    "# Show the figure\n",
    "fig.show()"
   ],
   "id": "4053e0c75f1a6617",
   "execution_count": 47,
   "outputs": []
  },
  {
   "metadata": {
    "ExecuteTime": {
     "end_time": "2024-04-27T18:11:22.382495Z",
     "start_time": "2024-04-27T18:11:22.375842Z"
    }
   },
   "cell_type": "code",
   "source": [
    "import json\n",
    "\n",
    "# a = json.loads(model.to_json())\n",
    "# a['config']['layers']"
   ],
   "id": "3f324b0655c5bffe",
   "execution_count": 48,
   "outputs": []
  },
  {
   "metadata": {},
   "cell_type": "code",
   "execution_count": null,
   "source": [
    "epoch_number = 10\n",
    "history = model.fit(X_train, y_train, epochs=epoch_number)"
   ],
   "id": "e2320aa5a19f4238",
   "outputs": []
  },
  {
   "metadata": {
    "ExecuteTime": {
     "end_time": "2024-04-21T11:29:51.318924Z",
     "start_time": "2024-04-21T11:29:51.233378Z"
    }
   },
   "cell_type": "code",
   "source": [
    "y_pred = model.predict(X_test)\n",
    "y_pred[:5]"
   ],
   "id": "3877800b9b7d5d57",
   "execution_count": 11,
   "outputs": []
  },
  {
   "metadata": {
    "ExecuteTime": {
     "end_time": "2024-04-21T11:31:31.975633Z",
     "start_time": "2024-04-21T11:31:31.958247Z"
    }
   },
   "cell_type": "code",
   "source": [
    "y_pred = np.argmax(y_pred, axis=1)\n",
    "y_pred[:5]"
   ],
   "id": "5ea9a844af505439",
   "execution_count": 14,
   "outputs": []
  },
  {
   "metadata": {
    "ExecuteTime": {
     "end_time": "2024-04-21T11:32:14.976276Z",
     "start_time": "2024-04-21T11:32:14.479048Z"
    }
   },
   "cell_type": "code",
   "source": "model.evaluate(X_test, y_test)",
   "id": "ac54487ee52980aa",
   "execution_count": 15,
   "outputs": []
  },
  {
   "metadata": {
    "ExecuteTime": {
     "end_time": "2024-04-21T11:33:08.059996Z",
     "start_time": "2024-04-21T11:33:07.581971Z"
    }
   },
   "cell_type": "code",
   "source": "pd.DataFrame(history.history).plot()",
   "id": "1efe5097a371ebfc",
   "execution_count": 16,
   "outputs": []
  },
  {
   "metadata": {},
   "cell_type": "code",
   "execution_count": null,
   "source": "",
   "id": "acc2a00edfc26daa",
   "outputs": []
  }
 ],
 "metadata": {
  "kernelspec": {
   "display_name": "Python 3",
   "language": "python",
   "name": "python3"
  },
  "language_info": {
   "codemirror_mode": {
    "name": "ipython",
    "version": 2
   },
   "file_extension": ".py",
   "mimetype": "text/x-python",
   "name": "python",
   "nbconvert_exporter": "python",
   "pygments_lexer": "ipython2",
   "version": "2.7.6"
  }
 },
 "nbformat": 4,
 "nbformat_minor": 5
}
